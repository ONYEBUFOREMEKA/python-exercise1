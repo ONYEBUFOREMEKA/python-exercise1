{
 "cells": [
  {
   "cell_type": "markdown",
   "metadata": {},
   "source": [
    "Conditional statements in Python are used to make decisions in your code based on certain conditions. They allow you to execute specific blocks of code only if a condition is met. Python provides several types of conditional statements:"
   ]
  },
  {
   "cell_type": "markdown",
   "metadata": {},
   "source": [
    "if Statement\n",
    "The if statement is used to execute a block of code only if a condition is true."
   ]
  },
  {
   "cell_type": "markdown",
   "metadata": {},
   "source": [
    "if condition:\n",
    "    # Code to execute if condition is true"
   ]
  },
  {
   "cell_type": "code",
   "execution_count": null,
   "metadata": {},
   "outputs": [],
   "source": [
    "x = 10\n",
    "if x > 5:\n",
    "    print(\"x is greater than 5\")  # This will be executed"
   ]
  },
  {
   "cell_type": "markdown",
   "metadata": {},
   "source": [
    "2. if-else Statement\n",
    "The if-else statement is used to execute one block of code if the condition is true and another block if the condition is false."
   ]
  },
  {
   "cell_type": "markdown",
   "metadata": {},
   "source": [
    "if condition:\n",
    "    # Code to execute if condition is true\n",
    "else:\n",
    "    # Code to execute if condition is false"
   ]
  },
  {
   "cell_type": "code",
   "execution_count": null,
   "metadata": {},
   "outputs": [],
   "source": [
    "x = 3\n",
    "if x > 5:\n",
    "    print(\"x is greater than 5\")\n",
    "else:\n",
    "    print(\"x is not greater than 5\")  # This will be executed"
   ]
  },
  {
   "cell_type": "markdown",
   "metadata": {},
   "source": [
    "3. if-elif-else Statement\n",
    "The if-elif-else statement is used to check multiple conditions. It executes the block of code corresponding to the first true condition. If none of the conditions are true, the else block is executed."
   ]
  },
  {
   "cell_type": "markdown",
   "metadata": {},
   "source": [
    "if condition1:\n",
    "    # Code to execute if condition1 is true\n",
    "elif condition2:\n",
    "    # Code to execute if condition2 is true\n",
    "else:\n",
    "    # Code to execute if all conditions are false"
   ]
  },
  {
   "cell_type": "code",
   "execution_count": null,
   "metadata": {},
   "outputs": [],
   "source": [
    "x = 7\n",
    "if x > 10:\n",
    "    print(\"x is greater than 10\")\n",
    "elif x > 5:\n",
    "    print(\"x is greater than 5 but less than or equal to 10\")  # This will be executed\n",
    "else:\n",
    "    print(\"x is 5 or less\")"
   ]
  },
  {
   "cell_type": "markdown",
   "metadata": {},
   "source": [
    "4. Nested if Statements\n",
    "You can nest if statements inside other if statements to check for more complex conditions."
   ]
  },
  {
   "cell_type": "markdown",
   "metadata": {},
   "source": [
    "if condition1:\n",
    "    if condition2:\n",
    "        # Code to execute if both condition1 and condition2 are true"
   ]
  },
  {
   "cell_type": "code",
   "execution_count": null,
   "metadata": {},
   "outputs": [],
   "source": [
    "x = 15\n",
    "if x > 10:\n",
    "    if x < 20:\n",
    "        print(\"x is between 10 and 20\")  # This will be executed"
   ]
  },
  {
   "cell_type": "markdown",
   "metadata": {},
   "source": [
    "5. Ternary Operator (Conditional Expression)\n",
    "The ternary operator is a shorthand for an if-else statement. It allows you to write a conditional expression in a single line."
   ]
  },
  {
   "cell_type": "markdown",
   "metadata": {},
   "source": [
    "value_if_true if condition else value_if_false"
   ]
  },
  {
   "cell_type": "code",
   "execution_count": null,
   "metadata": {},
   "outputs": [],
   "source": [
    "x = 10\n",
    "result = \"Greater than 5\" if x > 5 else \"5 or less\"\n",
    "print(result)  # \"Greater than 5\""
   ]
  },
  {
   "cell_type": "markdown",
   "metadata": {},
   "source": [
    "6. Chained Comparisons\n",
    "Python allows you to chain multiple comparisons together for cleaner code."
   ]
  },
  {
   "cell_type": "code",
   "execution_count": null,
   "metadata": {},
   "outputs": [],
   "source": [
    "x = 7\n",
    "if 5 < x < 10:\n",
    "    print(\"x is between 5 and 10\")  # This will be executed"
   ]
  },
  {
   "cell_type": "markdown",
   "metadata": {},
   "source": [
    "7. Truthiness and Falsiness\n",
    "Python evaluates conditions based on truthiness or falsiness. Values like 0, \"\", None, [], and False are considered falsy. All other values are truthy."
   ]
  },
  {
   "cell_type": "code",
   "execution_count": null,
   "metadata": {},
   "outputs": [],
   "source": [
    "x = 0\n",
    "if x:\n",
    "    print(\"x is truthy\")\n",
    "else:\n",
    "    print(\"x is falsy\")  # This will be executed"
   ]
  },
  {
   "cell_type": "markdown",
   "metadata": {},
   "source": [
    "8. Using and, or, not in Conditions\n",
    "You can combine multiple conditions using logical operators (and, or, not)."
   ]
  },
  {
   "cell_type": "code",
   "execution_count": 3,
   "metadata": {},
   "outputs": [
    {
     "name": "stdout",
     "output_type": "stream",
     "text": [
      "Both conditions are true\n",
      "At least one condition is true\n",
      "x is not 15\n"
     ]
    }
   ],
   "source": [
    "x = 10\n",
    "y = 5\n",
    "if x > 5 and y < 10:\n",
    "    print(\"Both conditions are true\")  # This will be executed\n",
    "\n",
    "if x > 15 or y < 10:\n",
    "    print(\"At least one condition is true\")  # This will be executed\n",
    "\n",
    "if not x == 15:\n",
    "    print(\"x is not 15\")  # This will be executed "
   ]
  },
  {
   "cell_type": "markdown",
   "metadata": {},
   "source": [
    "9. pass Statement\n",
    "The pass statement is a placeholder for future code. It does nothing but is useful when a statement is required syntactically."
   ]
  },
  {
   "cell_type": "code",
   "execution_count": 2,
   "metadata": {},
   "outputs": [],
   "source": [
    "x = 10\n",
    "if x > 5:\n",
    "    pass  # Do nothing for now\n",
    "else:\n",
    "    print(\"x is 5 or less\")"
   ]
  }
 ],
 "metadata": {
  "kernelspec": {
   "display_name": "Python 3",
   "language": "python",
   "name": "python3"
  },
  "language_info": {
   "codemirror_mode": {
    "name": "ipython",
    "version": 3
   },
   "file_extension": ".py",
   "mimetype": "text/x-python",
   "name": "python",
   "nbconvert_exporter": "python",
   "pygments_lexer": "ipython3",
   "version": "3.10.16"
  }
 },
 "nbformat": 4,
 "nbformat_minor": 2
}
