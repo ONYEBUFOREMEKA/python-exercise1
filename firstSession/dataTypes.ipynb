{
 "cells": [
  {
   "cell_type": "markdown",
   "metadata": {},
   "source": [
    "Data types are a classification of data which tell the compiler or interpreter how the programmer intends to use the data. \n",
    "\n",
    "\n",
    "data types define the type of value a variable can hold. Python is dynamically typed, meaning you don't need to explicitly declare the type of a variable—the type is inferred from the value assigned to it."
   ]
  },
  {
   "cell_type": "markdown",
   "metadata": {},
   "source": [
    "1. Numeric Types\n",
    "Used to store numeric values.\n",
    "\n",
    "a. Integer (int)\n",
    "Represents whole numbers (positive or negative).\n",
    "\n",
    "Examples: 10, -5, 0"
   ]
  },
  {
   "cell_type": "markdown",
   "metadata": {},
   "source": [
    "b. Float (float)\n",
    "Represents decimal numbers.\n",
    "\n",
    "Examples: 3.14, -0.001, 2.0"
   ]
  },
  {
   "cell_type": "markdown",
   "metadata": {},
   "source": [
    "c. Complex (complex)\n",
    "Represents complex numbers in the form a + bj, where a is the real part and b is the imaginary part.\n",
    "\n",
    "Examples: 2 + 3j, -1j"
   ]
  },
  {
   "cell_type": "code",
   "execution_count": null,
   "metadata": {
    "vscode": {
     "languageId": "plaintext"
    }
   },
   "outputs": [],
   "source": [
    "x = 10  # int\n",
    "y = 3.14  # float\n",
    "z = 2 + 3j  # complex"
   ]
  },
  {
   "cell_type": "markdown",
   "metadata": {},
   "source": [
    "2. Sequence Types\n",
    "Used to store collections of items.\n",
    "\n",
    "a. String (str)\n",
    "Represents a sequence of characters enclosed in single (') or double (\") quotes.\n",
    "\n",
    "Examples: \"Hello\", 'Python'"
   ]
  },
  {
   "cell_type": "markdown",
   "metadata": {},
   "source": [
    "b. List (list)\n",
    "Represents an ordered, mutable collection of items.\n",
    "\n",
    "Items can be of different types.\n",
    "\n",
    "Examples: [1, 2, 3], [\"apple\", \"banana\", \"cherry\"]"
   ]
  },
  {
   "cell_type": "markdown",
   "metadata": {},
   "source": [
    "c. Tuple (tuple)\n",
    "Represents an ordered, immutable collection of items.\n",
    "\n",
    "Items can be of different types.\n",
    "\n",
    "Examples: (1, 2, 3), (\"apple\", \"banana\", \"cherry\")"
   ]
  },
  {
   "cell_type": "code",
   "execution_count": null,
   "metadata": {
    "vscode": {
     "languageId": "plaintext"
    }
   },
   "outputs": [],
   "source": [
    "name = \"Alice\"  # str\n",
    "fruits = [\"apple\", \"banana\", \"cherry\"]  # list\n",
    "coordinates = (10, 20)  # tuple"
   ]
  },
  {
   "cell_type": "markdown",
   "metadata": {},
   "source": [
    "3. Mapping Type\n",
    "Used to store key-value pairs.\n",
    "\n",
    "a. Dictionary (dict)\n",
    "Represents an unordered collection of key-value pairs.\n",
    "\n",
    "Keys must be unique and immutable (e.g., strings, numbers, tuples).\n",
    "\n",
    "Examples: {\"name\": \"Alice\", \"age\": 25}"
   ]
  },
  {
   "cell_type": "code",
   "execution_count": null,
   "metadata": {
    "vscode": {
     "languageId": "plaintext"
    }
   },
   "outputs": [],
   "source": [
    "person = {\"name\": \"Alice\", \"age\": 25}  # dict"
   ]
  },
  {
   "cell_type": "markdown",
   "metadata": {},
   "source": [
    "4. Set Types\n",
    "Used to store unique, unordered collections.\n",
    "\n",
    "a. Set (set)\n",
    "Represents an unordered collection of unique items.\n",
    "\n",
    "Items must be immutable.\n",
    "\n",
    "Examples: {1, 2, 3}\n",
    "\n",
    "b. Frozen Set (frozenset)\n",
    "Represents an immutable version of a set.\n",
    "\n",
    "Examples: frozenset({1, 2, 3})"
   ]
  },
  {
   "cell_type": "code",
   "execution_count": null,
   "metadata": {
    "vscode": {
     "languageId": "plaintext"
    }
   },
   "outputs": [],
   "source": [
    "unique_numbers = {1, 2, 3}  # set\n",
    "immutable_set = frozenset({1, 2, 3})  # frozenset"
   ]
  },
  {
   "cell_type": "markdown",
   "metadata": {},
   "source": [
    "5. Boolean Type\n",
    "Used to represent truth values.\n",
    "\n",
    "a. Boolean (bool)\n",
    "Represents True or False.\n",
    "\n",
    "Examples: True, False"
   ]
  },
  {
   "cell_type": "code",
   "execution_count": null,
   "metadata": {
    "vscode": {
     "languageId": "plaintext"
    }
   },
   "outputs": [],
   "source": [
    "is_student = True  # bool"
   ]
  },
  {
   "cell_type": "code",
   "execution_count": null,
   "metadata": {
    "vscode": {
     "languageId": "plaintext"
    }
   },
   "outputs": [],
   "source": [
    "6. None Type\n",
    "Used to represent the absence of a value.\n",
    "\n",
    "a. None (NoneType)\n",
    "Represents a null or empty value.\n",
    "\n",
    "Example: None"
   ]
  },
  {
   "cell_type": "code",
   "execution_count": null,
   "metadata": {
    "vscode": {
     "languageId": "plaintext"
    }
   },
   "outputs": [],
   "source": [
    "result = None  # NoneType"
   ]
  },
  {
   "cell_type": "markdown",
   "metadata": {},
   "source": [
    "7. Binary Types\n",
    "Used to handle binary data.\n",
    "\n",
    "a. Bytes (bytes)\n",
    "Represents an immutable sequence of bytes.\n",
    "\n",
    "Example: b\"Hello\"\n",
    "\n",
    "b. Bytearray (bytearray)\n",
    "Represents a mutable sequence of bytes.\n",
    "\n",
    "Example: bytearray(b\"Hello\")\n",
    "\n",
    "c. Memoryview (memoryview)\n",
    "Represents a memory view object that allows direct access to the memory of an object.\n",
    "\n",
    "Example: memoryview(b\"Hello\")"
   ]
  },
  {
   "cell_type": "code",
   "execution_count": null,
   "metadata": {
    "vscode": {
     "languageId": "plaintext"
    }
   },
   "outputs": [],
   "source": [
    "data = b\"Hello\"  # bytes\n",
    "mutable_data = bytearray(b\"Hello\")  # bytearray\n",
    "view = memoryview(b\"Hello\")  # memoryview"
   ]
  },
  {
   "cell_type": "markdown",
   "metadata": {},
   "source": [
    "8. Custom Data Types\n",
    "You can create custom data types using classes.class Person:"
   ]
  },
  {
   "cell_type": "code",
   "execution_count": null,
   "metadata": {
    "vscode": {
     "languageId": "plaintext"
    }
   },
   "outputs": [],
   "source": [
    "class Person:\n",
    "    def __init__(self, name, age):\n",
    "        self.name = name\n",
    "        self.age = age\n",
    "\n",
    "p = Person(\"Alice\", 25)  # Custom data type"
   ]
  },
  {
   "cell_type": "markdown",
   "metadata": {},
   "source": [
    "\n",
    "Checking Data Types\n",
    "Use the type() function to check the type of a variable."
   ]
  },
  {
   "cell_type": "code",
   "execution_count": null,
   "metadata": {
    "vscode": {
     "languageId": "plaintext"
    }
   },
   "outputs": [],
   "source": [
    "x = 10\n",
    "print(type(x))  # <class 'int'>\n",
    "\n",
    "y = \"Hello\"\n",
    "print(type(y))  # <class 'str'>"
   ]
  },
  {
   "cell_type": "markdown",
   "metadata": {},
   "source": [
    "Type Conversion\n",
    "You can convert between data types using built-in functions like int(), float(), str(), etc."
   ]
  },
  {
   "cell_type": "code",
   "execution_count": null,
   "metadata": {
    "vscode": {
     "languageId": "plaintext"
    }
   },
   "outputs": [],
   "source": [
    "x = 10\n",
    "y = float(x)  # Convert to float (10.0)\n",
    "z = str(x)  # Convert to string (\"10\")"
   ]
  }
 ],
 "metadata": {
  "language_info": {
   "name": "python"
  }
 },
 "nbformat": 4,
 "nbformat_minor": 2
}
