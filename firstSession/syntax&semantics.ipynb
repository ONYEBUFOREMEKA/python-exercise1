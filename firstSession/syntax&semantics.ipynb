{
 "cells": [
  {
   "cell_type": "markdown",
   "metadata": {},
   "source": [
    "<!-- Syntax is the correct arrangement of words and symbols in a code\n",
    "\n",
    "Semantics is the meaning or the interpretation of the symbols, characters and commands in a language. it is about what the code is supposed to do when it runs.\n",
    "\n",
    "1. Syntax\n",
    "Definition: Syntax refers to the structure or form of code or language. It defines the rules for how symbols, keywords, and operators can be combined to form valid statements or expressions.\n",
    "\n",
    "Purpose: Syntax ensures that code is written in a way that the computer (or interpreter/compiler) can understand and process.\n",
    "Example:\n",
    "\n",
    "In Python, the syntax for a for loop is:\\\n",
    "for i in range(5):\n",
    "    print(i)\n",
    "\n",
    "If you write it incorrectly (e.g., missing the colon :), it will result in a syntax error:\n",
    "\n",
    "\n",
    " Semantics\n",
    "Definition: Semantics refers to the meaning of the code or language. It defines what the code does when it is executed.\n",
    "\n",
    "Purpose: Semantics ensures that the code behaves as intended and produces the correct results.\n",
    "\n",
    "Example:\n",
    "\n",
    "Consider the following Python code:\n",
    "\n",
    "x = 5\n",
    "y = 0\n",
    "z = x / y  # Semantics: Division by zero\n",
    "\n",
    "The syntax is correct (no syntax errors), but the semantics are flawed because dividing by zero is mathematically undefined and will raise a runtime error (ZeroDivisionError). -->\n"
   ]
  },
  {
   "cell_type": "code",
   "execution_count": null,
   "metadata": {
    "vscode": {
     "languageId": "plaintext"
    }
   },
   "outputs": [],
   "source": [
    "## Basic Syntax rules in python "
   ]
  },
  {
   "cell_type": "markdown",
   "metadata": {},
   "source": [
    "1. Indentation\n",
    "Python uses indentation to define blocks of code (e.g., loops, functions, conditionals).\n",
    "\n",
    "Use 4 spaces per indentation level (recommended by PEP 8, Python's style guide).\n",
    "\n",
    "Incorrect indentation will result in an IndentationError."
   ]
  },
  {
   "cell_type": "code",
   "execution_count": null,
   "metadata": {
    "vscode": {
     "languageId": "plaintext"
    }
   },
   "outputs": [],
   "source": [
    "if 5 > 2:\n",
    "    print(\"Five is greater than two!\")  # Correct indentation"
   ]
  },
  {
   "cell_type": "markdown",
   "metadata": {},
   "source": [
    "2. Comments\n",
    "Use # for single-line comments.\n",
    "\n",
    "Use triple quotes (\"\"\" or ''') for multi-line comments or docstrings."
   ]
  },
  {
   "cell_type": "code",
   "execution_count": null,
   "metadata": {
    "vscode": {
     "languageId": "plaintext"
    }
   },
   "outputs": [],
   "source": [
    "# This is a single-line comment\n",
    "\n",
    "\"\"\"\n",
    "This is a\n",
    "multi-line comment\n",
    "\"\"\""
   ]
  },
  {
   "cell_type": "markdown",
   "metadata": {},
   "source": [
    "3. Variables and Naming Conventions\n",
    "Variable names must start with a letter (a-z, A-Z) or an underscore (_).\n",
    "\n",
    "Variable names can only contain letters, numbers, and underscores.\n",
    "\n",
    "Variable names are case-sensitive (myVar and myvar are different).\n",
    "\n",
    "Use descriptive names and follow snake_case for variable names (recommended by PEP 8)."
   ]
  },
  {
   "cell_type": "code",
   "execution_count": null,
   "metadata": {
    "vscode": {
     "languageId": "plaintext"
    }
   },
   "outputs": [],
   "source": [
    "my_variable = 10\n",
    "user_name = \"Alice\""
   ]
  },
  {
   "cell_type": "markdown",
   "metadata": {},
   "source": [
    "4. Statements\n",
    "Each statement typically ends at the end of the line.\n",
    "\n",
    "You can use a semicolon (;) to separate multiple statements on a single line (not recommended)."
   ]
  },
  {
   "cell_type": "code",
   "execution_count": null,
   "metadata": {
    "vscode": {
     "languageId": "plaintext"
    }
   },
   "outputs": [],
   "source": [
    "x = 5\n",
    "y = 10; z = 15  # Not recommended, but valid"
   ]
  },
  {
   "cell_type": "markdown",
   "metadata": {},
   "source": [
    "5. Line Continuation\n",
    "For long lines, use a backslash (\\) to break the line.\n",
    "\n",
    "Alternatively, use parentheses () for natural line breaks (e.g., in function calls or expressions)."
   ]
  },
  {
   "cell_type": "code",
   "execution_count": null,
   "metadata": {
    "vscode": {
     "languageId": "plaintext"
    }
   },
   "outputs": [],
   "source": [
    "total = 10 + 20 + \\\n",
    "        30 + 40\n",
    "\n",
    "# Using parentheses\n",
    "names = (\n",
    "    \"Alice\",\n",
    "    \"Bob\",\n",
    "    \"Charlie\"\n",
    ")"
   ]
  },
  {
   "cell_type": "markdown",
   "metadata": {},
   "source": [
    "6. Strings\n",
    "Strings can be enclosed in single quotes (') or double quotes (\").\n",
    "\n",
    "Multi-line strings use triple quotes (\"\"\" or ''')."
   ]
  },
  {
   "cell_type": "code",
   "execution_count": null,
   "metadata": {
    "vscode": {
     "languageId": "plaintext"
    }
   },
   "outputs": [],
   "source": [
    "name = \"Alice\"\n",
    "message = 'Hello, World!'\n",
    "multi_line = \"\"\"This is a\n",
    "multi-line string.\"\"\""
   ]
  },
  {
   "cell_type": "markdown",
   "metadata": {},
   "source": [
    "7. Whitespace\n",
    "Avoid unnecessary whitespace at the end of lines or around operators.\n",
    "\n",
    "Use a single space around operators and after commas for readability."
   ]
  },
  {
   "cell_type": "code",
   "execution_count": null,
   "metadata": {
    "vscode": {
     "languageId": "plaintext"
    }
   },
   "outputs": [],
   "source": [
    "x = 5 + 10  # Good\n",
    "y = 5+10    # Avoid"
   ]
  },
  {
   "cell_type": "markdown",
   "metadata": {},
   "source": [
    "8. Functions\n",
    "Define functions using the def keyword.\n",
    "\n",
    "Use return to return a value from a function."
   ]
  },
  {
   "cell_type": "code",
   "execution_count": null,
   "metadata": {
    "vscode": {
     "languageId": "plaintext"
    }
   },
   "outputs": [],
   "source": [
    "def greet(name):\n",
    "    return f\"Hello, {name}!\"\n",
    "\n",
    "print(greet(\"Alice\"))"
   ]
  },
  {
   "cell_type": "markdown",
   "metadata": {},
   "source": [
    "9. Conditionals\n",
    "Use if, elif, and else for conditional statements.\n",
    "\n",
    "Conditions do not need parentheses but must end with a colon (:)."
   ]
  },
  {
   "cell_type": "code",
   "execution_count": null,
   "metadata": {
    "vscode": {
     "languageId": "plaintext"
    }
   },
   "outputs": [],
   "source": [
    "x = 10\n",
    "if x > 5:\n",
    "    print(\"x is greater than 5\")\n",
    "elif x == 5:\n",
    "    print(\"x is equal to 5\")\n",
    "else:\n",
    "    print(\"x is less than 5\")"
   ]
  },
  {
   "cell_type": "markdown",
   "metadata": {},
   "source": [
    "10. Loops\n",
    "Use for and while for loops.\n",
    "\n",
    "End the loop declaration with a colon (:)."
   ]
  },
  {
   "cell_type": "code",
   "execution_count": null,
   "metadata": {
    "vscode": {
     "languageId": "plaintext"
    }
   },
   "outputs": [],
   "source": [
    "# For loop\n",
    "for i in range(5):\n",
    "    print(i)\n",
    "\n",
    "# While loop\n",
    "x = 0\n",
    "while x < 5:\n",
    "    print(x)\n",
    "    x += 1"
   ]
  },
  {
   "cell_type": "markdown",
   "metadata": {},
   "source": [
    "11. Imports\n",
    "Use the import statement to include modules or libraries.\n",
    "\n",
    "Use from ... import ... to import specific functions or classes."
   ]
  },
  {
   "cell_type": "code",
   "execution_count": null,
   "metadata": {
    "vscode": {
     "languageId": "plaintext"
    }
   },
   "outputs": [],
   "source": [
    "import math\n",
    "from math import sqrt"
   ]
  },
  {
   "cell_type": "markdown",
   "metadata": {},
   "source": [
    "12. Exceptions\n",
    "Use try, except, and finally for exception handling."
   ]
  },
  {
   "cell_type": "code",
   "execution_count": null,
   "metadata": {
    "vscode": {
     "languageId": "plaintext"
    }
   },
   "outputs": [],
   "source": [
    "try:\n",
    "    result = 10 / 0\n",
    "except ZeroDivisionError:\n",
    "    print(\"Cannot divide by zero!\")\n",
    "finally:\n",
    "    print(\"Execution complete.\")"
   ]
  },
  {
   "cell_type": "markdown",
   "metadata": {},
   "source": [
    "13. Classes\n",
    "Define classes using the class keyword.\n",
    "\n",
    "Use __init__ for the constructor."
   ]
  },
  {
   "cell_type": "code",
   "execution_count": null,
   "metadata": {
    "vscode": {
     "languageId": "plaintext"
    }
   },
   "outputs": [],
   "source": [
    "class Person:\n",
    "    def __init__(self, name):\n",
    "        self.name = name\n",
    "\n",
    "    def greet(self):\n",
    "        print(f\"Hello, {self.name}!\")\n",
    "\n",
    "p = Person(\"Alice\")\n",
    "p.greet()"
   ]
  },
  {
   "cell_type": "markdown",
   "metadata": {},
   "source": [
    "14. PEP 8 Guidelines\n",
    "Follow PEP 8, Python's official style guide, for consistent and readable code.\n",
    "\n",
    "Examples:\n",
    "\n",
    "Use 4 spaces per indentation level.\n",
    "\n",
    "Limit lines to 79 characters (or 99 for comments/docstrings).\n",
    "\n",
    "Use lowercase with underscores for variable and function names (snake_case).\n",
    "\n",
    "Use uppercase for constants (CONSTANT_NAME)."
   ]
  }
 ],
 "metadata": {
  "language_info": {
   "name": "python"
  }
 },
 "nbformat": 4,
 "nbformat_minor": 2
}
