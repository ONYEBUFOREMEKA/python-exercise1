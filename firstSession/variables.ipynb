{
 "cells": [
  {
   "cell_type": "markdown",
   "metadata": {},
   "source": [
    "In Python, variables are used to store data that can be used and manipulated throughout a program. Variables act as containers for values, and they make it easy to reference and reuse data. "
   ]
  },
  {
   "cell_type": "markdown",
   "metadata": {},
   "source": [
    "1. Variable Assignment\n",
    "Variables are created using the assignment operator =.\n",
    "\n",
    "The value on the right side of = is assigned to the variable on the left.\n",
    "\n",
    "Syntax:\n",
    "\n",
    "variable_name = value"
   ]
  },
  {
   "cell_type": "code",
   "execution_count": null,
   "metadata": {},
   "outputs": [],
   "source": [
    "x = 10  # Assign the value 10 to the variable x\n",
    "name = \"Alice\"  # Assign the string \"Alice\" to the variable name"
   ]
  },
  {
   "cell_type": "markdown",
   "metadata": {},
   "source": [
    "2. Variable Naming Rules\n",
    "Variable names must start with a letter (a-z, A-Z) or an underscore (_).\n",
    "\n",
    "Variable names can only contain letters, numbers, and underscores.\n",
    "\n",
    "Variable names are case-sensitive (myVar and myvar are different).\n",
    "\n",
    "Avoid using Python keywords (e.g., if, for, while) as variable names."
   ]
  },
  {
   "cell_type": "code",
   "execution_count": null,
   "metadata": {},
   "outputs": [],
   "source": [
    "##Valid Examples:\n",
    "\n",
    "my_var = 10\n",
    "user_name = \"Alice\"\n",
    "_count = 5"
   ]
  },
  {
   "cell_type": "code",
   "execution_count": null,
   "metadata": {},
   "outputs": [],
   "source": [
    "#invalid Examples\n",
    "\n",
    "2var = 10  # Cannot start with a number\n",
    "my-var = 20  # Cannot use hyphens\n",
    "if = 30  # Cannot use a keyword"
   ]
  },
  {
   "cell_type": "markdown",
   "metadata": {},
   "source": [
    "3. Dynamic Typing\n",
    "Python is dynamically typed, meaning you don't need to declare the type of a variable explicitly.\n",
    "\n",
    "The type of a variable is determined by the value it holds."
   ]
  },
  {
   "cell_type": "code",
   "execution_count": null,
   "metadata": {},
   "outputs": [],
   "source": [
    "x = 10  # x is an integer\n",
    "x = \"Hello\"  # Now x is a string\n",
    "x = 3.14  # Now x is a float"
   ]
  },
  {
   "cell_type": "markdown",
   "metadata": {},
   "source": [
    "4. Variable Types\n",
    "Python supports several data types for variables, including:\n",
    "\n",
    "Integers: Whole numbers (e.g., 10, -5)\n",
    "\n",
    "Floats: Decimal numbers (e.g., 3.14, -0.001)\n",
    "\n",
    "Strings: Text (e.g., \"Hello\", 'Python')\n",
    "\n",
    "Booleans: True or False\n",
    "\n",
    "Lists: Ordered, mutable collections (e.g., [1, 2, 3])\n",
    "\n",
    "Tuples: Ordered, immutable collections (e.g., (1, 2, 3))\n",
    "\n",
    "Dictionaries: Key-value pairs (e.g., {\"name\": \"Alice\", \"age\": 25})\n",
    "\n",
    "Sets: Unordered, unique collections (e.g., {1, 2, 3})"
   ]
  },
  {
   "cell_type": "code",
   "execution_count": null,
   "metadata": {},
   "outputs": [],
   "source": [
    "age = 25  # Integer\n",
    "price = 19.99  # Float\n",
    "name = \"Alice\"  # String\n",
    "is_student = True  # Boolean\n",
    "fruits = [\"apple\", \"banana\", \"cherry\"]  # List\n",
    "coordinates = (10, 20)  # Tuple\n",
    "person = {\"name\": \"Alice\", \"age\": 25}  # Dictionary\n",
    "unique_numbers = {1, 2, 3}  # Set"
   ]
  },
  {
   "cell_type": "markdown",
   "metadata": {},
   "source": [
    "5. Multiple Assignment\n",
    "You can assign multiple variables in a single line."
   ]
  },
  {
   "cell_type": "code",
   "execution_count": null,
   "metadata": {},
   "outputs": [],
   "source": [
    "x, y, z = 10, 20, 30  # x = 10, y = 20, z = 30\n",
    "a = b = c = 100  # a, b, and c all have the value 100"
   ]
  },
  {
   "cell_type": "markdown",
   "metadata": {},
   "source": [
    "6. Variable Scope\n",
    "Local Variables: Defined inside a function and accessible only within that function.\n",
    "\n",
    "Global Variables: Defined outside a function and accessible throughout the program.\n",
    "\n",
    "Nonlocal Variables: Used in nested functions to refer to variables in the enclosing function."
   ]
  },
  {
   "cell_type": "code",
   "execution_count": null,
   "metadata": {},
   "outputs": [],
   "source": [
    "x = 10  # Global variable\n",
    "\n",
    "def my_function():\n",
    "    y = 5  # Local variable\n",
    "    print(x)  # Access global variable (prints 10)\n",
    "    print(y)  # Access local variable (prints 5)\n",
    "\n",
    "my_function()\n",
    "# print(y)  # Error: y is not defined outside the function"
   ]
  },
  {
   "cell_type": "markdown",
   "metadata": {},
   "source": [
    "7. Deleting Variables\n",
    "Use the del keyword to delete a variable."
   ]
  },
  {
   "cell_type": "code",
   "execution_count": null,
   "metadata": {},
   "outputs": [],
   "source": [
    "x = 10\n",
    "print(x)  # Prints 10\n",
    "del x\n",
    "# print(x)  # Error: x is not defined"
   ]
  },
  {
   "cell_type": "markdown",
   "metadata": {},
   "source": [
    "8. Constants\n",
    "Python doesn't have built-in support for constants, but by convention, use uppercase variable names to indicate constants."
   ]
  },
  {
   "cell_type": "code",
   "execution_count": 1,
   "metadata": {},
   "outputs": [],
   "source": [
    "PI = 3.14159  # Convention for constants"
   ]
  },
  {
   "cell_type": "markdown",
   "metadata": {},
   "source": [
    "9. Type Checking\n",
    "Use the type() function to check the type of a variable."
   ]
  },
  {
   "cell_type": "code",
   "execution_count": 2,
   "metadata": {},
   "outputs": [
    {
     "name": "stdout",
     "output_type": "stream",
     "text": [
      "<class 'int'>\n",
      "<class 'str'>\n"
     ]
    }
   ],
   "source": [
    "x = 10\n",
    "print(type(x))  # <class 'int'>\n",
    "\n",
    "y = \"Hello\"\n",
    "print(type(y))  # <class 'str'>"
   ]
  },
  {
   "cell_type": "markdown",
   "metadata": {},
   "source": [
    "10. Best Practices\n",
    "Use descriptive variable names (e.g., user_age instead of x).\n",
    "\n",
    "Follow the snake_case naming convention (e.g., user_name).\n",
    "\n",
    "Avoid using single-letter variable names unless in loops or mathematical contexts.\n",
    "\n",
    "Initialize variables before using them."
   ]
  },
  {
   "cell_type": "code",
   "execution_count": null,
   "metadata": {},
   "outputs": [],
   "source": [
    "# Variable assignment\n",
    "name = \"Alice\"\n",
    "age = 25\n",
    "is_student = True\n",
    "\n",
    "# Multiple assignment\n",
    "x, y, z = 10, 20, 30\n",
    "\n",
    "# Global and local variables\n",
    "global_var = 100\n",
    "\n",
    "def my_function():\n",
    "    local_var = 50\n",
    "    print(global_var)  # Access global variable\n",
    "    print(local_var)  # Access local variable\n",
    "\n",
    "my_function()\n",
    "\n",
    "# Type checking\n",
    "print(type(name))  # <class 'str'>\n",
    "print(type(age))   # <class 'int'>"
   ]
  },
  {
   "cell_type": "code",
   "execution_count": 3,
   "metadata": {},
   "outputs": [
    {
     "name": "stdout",
     "output_type": "stream",
     "text": [
      "david <class 'str'>\n"
     ]
    }
   ],
   "source": [
    "age = input(\"what is the age \")\n",
    "print(age, type(age))"
   ]
  },
  {
   "cell_type": "markdown",
   "metadata": {},
   "source": [
    "Basic Calculator"
   ]
  },
  {
   "cell_type": "code",
   "execution_count": null,
   "metadata": {},
   "outputs": [
    {
     "name": "stdout",
     "output_type": "stream",
     "text": [
      "Sum: 11\n",
      "Difference: -1\n",
      "Product: 30\n",
      "Quotient: 0.8333333333333334\n",
      "Remainder: 5\n"
     ]
    }
   ],
   "source": [
    "first_number = int(input(\"Enter the first number: \"))\n",
    "second_number = int(input(\"Enter the second number: \"))\n",
    "\n",
    "sum = first_number + second_number\n",
    "difference = first_number - second_number\n",
    "product = first_number * second_number\n",
    "quotient = first_number / second_number\n",
    "remainder = first_number % second_number\n",
    "\n",
    "print(\"Sum:\", sum)\n",
    "print(\"Difference:\", difference)\n",
    "print(\"Product:\", product)\n",
    "print(\"Quotient:\", quotient)\n",
    "print(\"Remainder:\", remainder)\n"
   ]
  }
 ],
 "metadata": {
  "kernelspec": {
   "display_name": "Python 3",
   "language": "python",
   "name": "python3"
  },
  "language_info": {
   "codemirror_mode": {
    "name": "ipython",
    "version": 3
   },
   "file_extension": ".py",
   "mimetype": "text/x-python",
   "name": "python",
   "nbconvert_exporter": "python",
   "pygments_lexer": "ipython3",
   "version": "3.10.16"
  }
 },
 "nbformat": 4,
 "nbformat_minor": 2
}
