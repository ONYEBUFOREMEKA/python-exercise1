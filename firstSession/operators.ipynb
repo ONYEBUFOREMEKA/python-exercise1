{
 "cells": [
  {
   "cell_type": "markdown",
   "metadata": {},
   "source": [
    "In Python, operators are special symbols or keywords used to perform operations on variables and values. They are essential for performing calculations, comparisons, and logical operations. Python supports a wide range of operators, which can be categorized into the following types:"
   ]
  },
  {
   "cell_type": "markdown",
   "metadata": {},
   "source": [
    "1. Arithmetic Operators\n",
    "Used to perform mathematical operations.\n",
    "\n",
    "Operator\tDescription\tExample\n",
    "+\tAddition\t5 + 3 = 8\n",
    "-\tSubtraction\t5 - 3 = 2\n",
    "*\tMultiplication\t5 * 3 = 15\n",
    "/\tDivision\t5 / 2 = 2.5\n",
    "%\tModulus (remainder)\t5 % 2 = 1\n",
    "**\tExponentiation\t2 ** 3 = 8\n",
    "//\tFloor division\t5 // 2 = 2\n"
   ]
  },
  {
   "cell_type": "code",
   "execution_count": null,
   "metadata": {
    "vscode": {
     "languageId": "plaintext"
    }
   },
   "outputs": [],
   "source": [
    "x = 10\n",
    "y = 3\n",
    "print(x + y)  # 13\n",
    "print(x ** y)  # 1000"
   ]
  },
  {
   "cell_type": "markdown",
   "metadata": {},
   "source": [
    "2. Comparison Operators\n",
    "Used to compare two values.\n",
    "\n",
    "Operator\tDescription\tExample\n",
    "==\tEqual to\t5 == 3 → False\n",
    "!=\tNot equal to\t5 != 3 → True\n",
    ">\tGreater than\t5 > 3 → True\n",
    "<\tLess than\t5 < 3 → False\n",
    ">=\tGreater than or equal to\t5 >= 5 → True\n",
    "<=\tLess than or equal to\t5 <= 3 → False"
   ]
  },
  {
   "cell_type": "code",
   "execution_count": null,
   "metadata": {
    "vscode": {
     "languageId": "plaintext"
    }
   },
   "outputs": [],
   "source": [
    "x = 10\n",
    "y = 5\n",
    "print(x > y)  # True\n",
    "print(x == y)  # False"
   ]
  },
  {
   "cell_type": "markdown",
   "metadata": {},
   "source": [
    "3. Logical Operators\n",
    "Used to combine conditional statements.\n",
    "\n",
    "Operator\tDescription\tExample\n",
    "and\tTrue if both are true\tTrue and False → False\n",
    "or\tTrue if at least one is true\tTrue or False → True\n",
    "not\tInverts the boolean value\tnot True → False"
   ]
  },
  {
   "cell_type": "code",
   "execution_count": null,
   "metadata": {
    "vscode": {
     "languageId": "plaintext"
    }
   },
   "outputs": [],
   "source": [
    "x = True\n",
    "y = False\n",
    "print(x and y)  # False\n",
    "print(x or y)   # True\n",
    "print(not x)    # False"
   ]
  },
  {
   "cell_type": "markdown",
   "metadata": {},
   "source": [
    "4. Assignment Operators\n",
    "Used to assign values to variables.\n",
    "\n",
    "Operator\tDescription\tExample\n",
    "=\tAssign\tx = 5\n",
    "+=\tAdd and assign\tx += 3 → x = x + 3\n",
    "-=\tSubtract and assign\tx -= 3 → x = x - 3\n",
    "*=\tMultiply and assign\tx *= 3 → x = x * 3\n",
    "/=\tDivide and assign\tx /= 3 → x = x / 3\n",
    "%=\tModulus and assign\tx %= 3 → x = x % 3\n",
    "**=\tExponent and assign\tx **= 3 → x = x ** 3\n",
    "//=\tFloor divide and assign\tx //= 3 → x = x // 3\n"
   ]
  },
  {
   "cell_type": "code",
   "execution_count": null,
   "metadata": {
    "vscode": {
     "languageId": "plaintext"
    }
   },
   "outputs": [],
   "source": [
    "x = 10\n",
    "x += 5  # x = x + 5 → 15\n",
    "print(x)"
   ]
  },
  {
   "cell_type": "markdown",
   "metadata": {},
   "source": [
    "5. Bitwise Operators\n",
    "Used to perform operations on binary numbers.\n",
    "\n",
    "Operator\tDescription\tExample\n",
    "&\tBitwise AND\t5 & 3 → 1\n",
    "`\t`\tBitwise OR\t`5\t3 → 7`\n",
    "^\tBitwise XOR\t5 ^ 3 → 6\n",
    "~\tBitwise NOT\t~5 → -6\n",
    "<<\tLeft shift\t5 << 1 → 10\n",
    ">>\tRight shift\t5 >> 1 → 2"
   ]
  },
  {
   "cell_type": "code",
   "execution_count": null,
   "metadata": {
    "vscode": {
     "languageId": "plaintext"
    }
   },
   "outputs": [],
   "source": [
    "x = 5  # Binary: 0101\n",
    "y = 3  # Binary: 0011\n",
    "print(x & y)  # 1 (Binary: 0001)\n",
    "print(x | y)  # 7 (Binary: 0111)"
   ]
  },
  {
   "cell_type": "markdown",
   "metadata": {},
   "source": [
    "6. Membership Operators\n",
    "Used to check if a value exists in a sequence (e.g., list, string).\n",
    "\n",
    "Operator\tDescription\tExample\n",
    "in\tTrue if value exists\t5 in [1, 2, 3] → False\n",
    "not in\tTrue if value does not exist\t5 not in [1, 2, 3] → True\n"
   ]
  },
  {
   "cell_type": "code",
   "execution_count": null,
   "metadata": {
    "vscode": {
     "languageId": "plaintext"
    }
   },
   "outputs": [],
   "source": [
    "fruits = [\"apple\", \"banana\", \"cherry\"]\n",
    "print(\"banana\" in fruits)  # True\n",
    "print(\"mango\" not in fruits)  # True"
   ]
  },
  {
   "cell_type": "markdown",
   "metadata": {},
   "source": [
    "7. Identity Operators\n",
    "Used to compare the memory locations of two objects.\n",
    "\n",
    "Operator\tDescription\tExample\n",
    "is\tTrue if both refer to the same object\tx is y\n",
    "is not\tTrue if both do not refer to the same object\tx is not y\n"
   ]
  },
  {
   "cell_type": "code",
   "execution_count": null,
   "metadata": {
    "vscode": {
     "languageId": "plaintext"
    }
   },
   "outputs": [],
   "source": [
    "x = [1, 2, 3]\n",
    "y = [1, 2, 3]\n",
    "z = x\n",
    "print(x is y)  # False (different objects)\n",
    "print(x is z)  # True (same object)"
   ]
  },
  {
   "cell_type": "markdown",
   "metadata": {},
   "source": [
    "8. Ternary Operator\n",
    "A shorthand for an if-else statement.\n",
    "value_if_true if condition else value_if_false"
   ]
  },
  {
   "cell_type": "code",
   "execution_count": null,
   "metadata": {
    "vscode": {
     "languageId": "plaintext"
    }
   },
   "outputs": [],
   "source": [
    "x = 10\n",
    "y = 20\n",
    "max_value = x if x > y else y\n",
    "print(max_value)  # 20"
   ]
  },
  {
   "cell_type": "markdown",
   "metadata": {},
   "source": [
    "9. Operator Precedence\n",
    "Python follows a specific order of operations (precedence) when evaluating expressions. Use parentheses () to explicitly define the order."
   ]
  },
  {
   "cell_type": "code",
   "execution_count": null,
   "metadata": {
    "vscode": {
     "languageId": "plaintext"
    }
   },
   "outputs": [],
   "source": [
    "result = 5 + 10 * 2  # Multiplication happens first (result is 25)\n",
    "result = (5 + 10) * 2  # Parentheses change the order (result is 30)"
   ]
  }
 ],
 "metadata": {
  "language_info": {
   "name": "python"
  }
 },
 "nbformat": 4,
 "nbformat_minor": 2
}
