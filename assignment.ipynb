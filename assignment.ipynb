{
  "nbformat": 4,
  "nbformat_minor": 0,
  "metadata": {
    "colab": {
      "provenance": []
    },
    "kernelspec": {
      "name": "python3",
      "display_name": "Python 3"
    },
    "language_info": {
      "name": "python"
    }
  },
  "cells": [
    {
      "cell_type": "markdown",
      "source": [
        "## 1. Syntax and Semantics\n",
        "\n",
        "**Question 1:** Write a Python program to print \"Hello, World!\"."
      ],
      "metadata": {
        "id": "0Scpev4cojoy"
      }
    },
    {
      "cell_type": "code",
      "source": [
        "# Your code here\n",
        "\n",
        "print(\"hello world\")"
      ],
      "metadata": {
        "colab": {
          "base_uri": "https://localhost:8080/"
        },
        "id": "qAXz0Z2Lo8Zf",
        "outputId": "ef6cf00b-ab61-49ab-f636-83f823fe3a97"
      },
      "execution_count": null,
      "outputs": [
        {
          "output_type": "stream",
          "name": "stdout",
          "text": [
            "hello world\n"
          ]
        }
      ]
    },
    {
      "cell_type": "markdown",
      "source": [
        "**Question 2:** Write a Python program that takes a user input and prints it."
      ],
      "metadata": {
        "id": "wkhn35RCpPiw"
      }
    },
    {
      "cell_type": "code",
      "source": [
        "# Your code here\n",
        "name = input(str('enter your name '))\n",
        "print('name')\n",
        "surname = input(str('enter your surname '))\n",
        "print('surname')\n",
        "print(f' welcome mr {name} {surname}')\n",
        "\n"
      ],
      "metadata": {
        "colab": {
          "base_uri": "https://localhost:8080/"
        },
        "id": "kjNR0oMKpYwG",
        "outputId": "35d1f330-4925-481e-c66e-21586dd320fd"
      },
      "execution_count": null,
      "outputs": [
        {
          "output_type": "stream",
          "name": "stdout",
          "text": [
            "enter your name emeka\n",
            "name\n",
            "enter your surname okeke\n",
            "surname\n",
            " welcome mr emeka okeke\n"
          ]
        }
      ]
    },
    {
      "cell_type": "markdown",
      "source": [
        "**Question 3:** Write a Python program to check if a number is positive, negative, or zero."
      ],
      "metadata": {
        "id": "YI9MHMIBqCOZ"
      }
    },
    {
      "cell_type": "code",
      "source": [
        "# Your code here\n",
        "def check_number(num):\n",
        "    if num > 0:\n",
        "        print('the number is positive.')\n",
        "    elif num < 0:\n",
        "        print('the number is nagative.')\n",
        "    else:\n",
        "        print('the number is zero.')\n",
        "try:\n",
        "    number = float(input('enter a number:'))\n",
        "    print(check_number(number))\n",
        "except ValueError:\n",
        "    print('invalid input! please enter numeric value.  ')\n"
      ],
      "metadata": {
        "id": "An-E8doBqJK4"
      },
      "execution_count": null,
      "outputs": []
    },
    {
      "cell_type": "markdown",
      "source": [
        "**Question 4:** Write a Python program to find the largest of three numbers."
      ],
      "metadata": {
        "id": "ZwkpK0riq-Ax"
      }
    },
    {
      "cell_type": "code",
      "source": [
        "# Your code here\n",
        "def find_largest(a, b, c):\n",
        "    if a >= b and a >= c:\n",
        "        return a\n",
        "    elif b >= a and b >= c:\n",
        "        return b\n",
        "    else:\n",
        "        return c\n",
        "\n",
        "# Example usage:\n",
        "num1 = float(input(\"Enter first number: \"))\n",
        "num2 = float(input(\"Enter second number: \"))\n",
        "num3 = float(input(\"Enter third number: \"))\n",
        "\n",
        "largest = find_largest(num1, num2, num3)\n",
        "print(f\"The largest number is: {largest}\")\n"
      ],
      "metadata": {
        "id": "xDGeBOlbrELc"
      },
      "execution_count": null,
      "outputs": []
    },
    {
      "cell_type": "markdown",
      "source": [
        "**Question 5:** Write a Python program to calculate the factorial of a number."
      ],
      "metadata": {
        "id": "XLP9-_V0rW35"
      }
    },
    {
      "cell_type": "code",
      "source": [
        "def factorial_iterative(n):\n",
        "    result = 1\n",
        "    for i in range(1, n + 1):\n",
        "        result *= i\n",
        "    return result\n",
        "\n",
        "num = int(input(\"Enter a non-negative integer: \"))\n",
        "\n",
        "if num < 0:\n",
        "    print(\"Factorial is not defined for negative numbers.\")\n",
        "else:\n",
        "    print(f\"Factorial of {num} is {factorial_iterative(num)}\")\n"
      ],
      "metadata": {
        "id": "rSAFomJorfFV"
      },
      "execution_count": null,
      "outputs": []
    },
    {
      "cell_type": "markdown",
      "source": [
        "## 2. Variables and Data Types\n",
        "\n",
        "**Question 6:** Create variables of different data types: integer, float, string, and boolean. Print their values and types."
      ],
      "metadata": {
        "id": "Tf_vHZBnzcKR"
      }
    },
    {
      "cell_type": "code",
      "source": [
        "# Defining variables of different data types\n",
        "integer_var = 10       # Integer\n",
        "float_var = 20.5       # Float\n",
        "string_var = \"Hello\"   # String\n",
        "boolean_var = True     # Boolean\n",
        "\n",
        "# Printing values and their types\n",
        "print(\"Value:\", integer_var, \"| Type:\", type(integer_var))\n",
        "print(\"Value:\", float_var, \"| Type:\", type(float_var))\n",
        "print(\"Value:\", string_var, \"| Type:\", type(string_var))\n",
        "print(\"Value:\", boolean_var, \"| Type:\", type(boolean_var))\n"
      ],
      "metadata": {
        "colab": {
          "base_uri": "https://localhost:8080/"
        },
        "id": "Y5rmTdMsGjEX",
        "outputId": "d9ca115b-f756-44ea-e0b0-93210d1a5025"
      },
      "execution_count": null,
      "outputs": [
        {
          "output_type": "stream",
          "name": "stdout",
          "text": [
            "Value: 10 | Type: <class 'int'>\n",
            "Value: 20.5 | Type: <class 'float'>\n",
            "Value: Hello | Type: <class 'str'>\n",
            "Value: True | Type: <class 'bool'>\n"
          ]
        }
      ]
    },
    {
      "cell_type": "code",
      "source": [
        "integer = int(input('enter you integer '))\n",
        "print(f'{integer} is a type of {type(integer)}')\n",
        "\n"
      ],
      "metadata": {
        "colab": {
          "base_uri": "https://localhost:8080/"
        },
        "id": "5A9xk0LkHTa9",
        "outputId": "6cc057ff-83bf-459c-8dad-d686137dac5f"
      },
      "execution_count": null,
      "outputs": [
        {
          "output_type": "stream",
          "name": "stdout",
          "text": [
            "enter you integer 59\n",
            "59 is a type of <class 'int'>\n"
          ]
        }
      ]
    },
    {
      "cell_type": "markdown",
      "source": [
        "**Question 7:** Write a Python program to swap the values of two variables."
      ],
      "metadata": {
        "id": "sinydWifKHXC"
      }
    },
    {
      "cell_type": "code",
      "source": [
        "# Swapping using a temporary variable\n",
        "a = 5\n",
        "b = 10\n",
        "\n",
        "print(a, b)\n",
        "\n",
        "print(\"Before swapping:\")\n",
        "print(\"a =\", a, \"b =\", b)\n",
        "\n",
        "# Swapping the values\n",
        "a, b = b, a\n",
        "\n",
        "print(\"After swapping:\")\n",
        "print(\"a =\", a, \"b =\", b)\n"
      ],
      "metadata": {
        "colab": {
          "base_uri": "https://localhost:8080/"
        },
        "id": "u9Ij2shDKbTQ",
        "outputId": "714ef900-125a-4f74-ae40-422b9a9ab6e1"
      },
      "execution_count": null,
      "outputs": [
        {
          "output_type": "stream",
          "name": "stdout",
          "text": [
            "5 10\n",
            "Before swapping:\n",
            "a = 5 b = 10\n",
            "After swapping:\n",
            "a = 10 b = 5\n"
          ]
        }
      ]
    },
    {
      "cell_type": "markdown",
      "source": [
        "**Question 8:** Write a Python program to convert Celsius to Fahrenheit."
      ],
      "metadata": {
        "id": "eY1chwvTLlAP"
      }
    },
    {
      "cell_type": "code",
      "source": [
        "# Function to convert Celsius to Fahrenheit\n",
        "def celsius_to_fahrenheit(celsius):\n",
        "    fahrenheit = (celsius * 9/5) + 32\n",
        "    return fahrenheit\n",
        "\n",
        "# Input from user\n",
        "celsius = float(input(\"Enter temperature in Celsius: \"))\n",
        "\n",
        "# Convert and display result\n",
        "fahrenheit = celsius_to_fahrenheit(celsius)\n",
        "print(f\"{celsius}°C is equal to {fahrenheit}°F\")\n"
      ],
      "metadata": {
        "colab": {
          "base_uri": "https://localhost:8080/"
        },
        "id": "eh9iA_6vLm4g",
        "outputId": "f7af57a7-9362-4aae-e195-6177baf7063e"
      },
      "execution_count": null,
      "outputs": [
        {
          "output_type": "stream",
          "name": "stdout",
          "text": [
            "Enter temperature in Celsius: 30\n",
            "30.0°C is equal to 86.0°F\n"
          ]
        }
      ]
    },
    {
      "cell_type": "markdown",
      "source": [
        "**Question 9:** Write a Python program to concatenate two strings."
      ],
      "metadata": {
        "id": "X5Vsw1MYM7GR"
      }
    },
    {
      "cell_type": "code",
      "source": [
        "# Input from user\n",
        "str1 = input(\"Enter the first string: \")\n",
        "str2 = input(\"Enter the second string: \")\n",
        "\n",
        "# Concatenating strings\n",
        "concatenated_str = str1 + \" \" + str2 # or str1 + str2 = str1str2\n",
        "\n",
        "# Displaying the result\n",
        "print(\"Concatenated String:\", concatenated_str)\n"
      ],
      "metadata": {
        "colab": {
          "base_uri": "https://localhost:8080/"
        },
        "id": "f2MYsy5gM8hD",
        "outputId": "536db12a-0894-49ec-80d0-419b349776c0"
      },
      "execution_count": null,
      "outputs": [
        {
          "output_type": "stream",
          "name": "stdout",
          "text": [
            "Enter the first string: my\n",
            "Enter the second string: love\n",
            "Concatenated String: my love\n"
          ]
        }
      ]
    },
    {
      "cell_type": "markdown",
      "source": [
        "**Question 10:** Write a Python program to check if a variable is of a specific data type."
      ],
      "metadata": {
        "id": "uc5ftso7N_ik"
      }
    },
    {
      "cell_type": "code",
      "source": [
        "# Function to check the data type of a variable\n",
        "def check_data_type(variable, data_type):\n",
        "    return isinstance(variable, data_type)\n",
        "\n",
        "# Example variables\n",
        "var1 = 10\n",
        "var2 = 3.14\n",
        "var3 = \"Hello\"\n",
        "var4 = True\n",
        "\n",
        "# Checking data types\n",
        "print(\"Is var1 an integer?\", check_data_type(var1, int))\n",
        "print(\"Is var2 a float?\", check_data_type(var2, float))\n",
        "print(\"Is var3 a string?\", check_data_type(var3, str))\n",
        "print(\"Is var4 a boolean?\", check_data_type(var4, bool))\n"
      ],
      "metadata": {
        "colab": {
          "base_uri": "https://localhost:8080/"
        },
        "id": "1l2YGz0_OLhL",
        "outputId": "ea0d0ec7-d53e-4dc8-889b-955f60cba184"
      },
      "execution_count": null,
      "outputs": [
        {
          "output_type": "stream",
          "name": "stdout",
          "text": [
            "Is var1 an integer? True\n",
            "Is var2 a float? True\n",
            "Is var3 a string? True\n",
            "Is var4 a boolean? True\n"
          ]
        }
      ]
    },
    {
      "cell_type": "markdown",
      "source": [
        "**Question 11:** Write a Python program to perform arithmetic operations: addition, subtraction, multiplication, and division."
      ],
      "metadata": {
        "id": "_ay40L0XVSnP"
      }
    },
    {
      "cell_type": "code",
      "source": [
        "# Function to perform arithmetic operations\n",
        "def arithmetic_operations(a, b):\n",
        "    addition = a + b\n",
        "    subtraction = a - b\n",
        "    multiplication = a * b\n",
        "    division = a / b if b != 0 else \"Undefined (division by zero)\"\n",
        "\n",
        "    return addition, subtraction, multiplication, division\n",
        "\n",
        "# Input from user\n",
        "num1 = float(input(\"Enter first number: \"))\n",
        "num2 = float(input(\"Enter second number: \"))\n",
        "\n",
        "# Performing operations\n",
        "add, sub, mul, div = arithmetic_operations(num1, num2)\n",
        "\n",
        "# Displaying results\n",
        "print(f\"Addition: {add}\")\n",
        "print(f\"Subtraction: {sub}\")\n",
        "print(f\"Multiplication: {mul}\")\n",
        "print(f\"Division: {div}\")\n"
      ],
      "metadata": {
        "colab": {
          "base_uri": "https://localhost:8080/"
        },
        "id": "IKKuL4XRVTA1",
        "outputId": "1560ed35-ad76-4190-bb00-229f04d9cbc1"
      },
      "execution_count": null,
      "outputs": [
        {
          "output_type": "stream",
          "name": "stdout",
          "text": [
            "Enter first number: 15\n",
            "Enter second number: 3\n",
            "Addition: 18.0\n",
            "Subtraction: 12.0\n",
            "Multiplication: 45.0\n",
            "Division: 5.0\n"
          ]
        }
      ]
    },
    {
      "cell_type": "markdown",
      "source": [
        "**Question 12:** Write a Python program to demonstrate comparison operators: equal to, not equal to, greater than, less than."
      ],
      "metadata": {
        "id": "5FBzD4Pm7Y_Q"
      }
    },
    {
      "cell_type": "code",
      "source": [
        "# Function to demonstrate comparison operators\n",
        "def comparison_operations(a, b):\n",
        "    print(f\"{a} == {b}: {a == b}\")   # Equal to\n",
        "    print(f\"{a} != {b}: {a != b}\")   # Not equal to\n",
        "    print(f\"{a} > {b}: {a > b}\")     # Greater than\n",
        "    print(f\"{a} < {b}: {a < b}\")     # Less than\n",
        "    print(f\"{a} >= {b}: {a >= b}\")   # Greater than or equal to\n",
        "    print(f\"{a} <= {b}: {a <= b}\")   # Less than or equal to\n",
        "\n",
        "# Input from user\n",
        "num1 = float(input(\"Enter first number: \"))\n",
        "num2 = float(input(\"Enter second number: \"))\n",
        "\n",
        "# Performing comparison\n",
        "comparison_operations(num1, num2)\n"
      ],
      "metadata": {
        "colab": {
          "base_uri": "https://localhost:8080/"
        },
        "id": "AZpukV1E8AQv",
        "outputId": "bf811835-a565-42bd-88a0-77e72c68eb9e"
      },
      "execution_count": null,
      "outputs": [
        {
          "output_type": "stream",
          "name": "stdout",
          "text": [
            "Enter first number: 6\n",
            "Enter second number: 7\n",
            "6.0 == 7.0: False\n",
            "6.0 != 7.0: True\n",
            "6.0 > 7.0: False\n",
            "6.0 < 7.0: True\n",
            "6.0 >= 7.0: False\n",
            "6.0 <= 7.0: True\n"
          ]
        }
      ]
    },
    {
      "cell_type": "markdown",
      "source": [
        "**Question 13:** Write a Python program to demonstrate logical operators: and, or, not."
      ],
      "metadata": {
        "id": "kOb9yh3w9ATn"
      }
    },
    {
      "cell_type": "code",
      "source": [
        "# Taking input from the user\n",
        "a = bool(int(input(\"Enter first value (1 for True, 0 for False): \")))\n",
        "b = bool(int(input(\"Enter second value (1 for True, 0 for False): \")))\n",
        "\n",
        "# Demonstrating logical operators\n",
        "print(f\"{a} and {b} → {a and b}\")  # AND operator\n",
        "print(f\"{a} or {b} → {a or b}\")    # OR operator\n",
        "print(f\"not {a} → {not a}\")        # NOT operator\n",
        "print(f\"not {b} → {not b}\")        # NOT operator\n"
      ],
      "metadata": {
        "colab": {
          "base_uri": "https://localhost:8080/"
        },
        "id": "7znu0gQi9B7h",
        "outputId": "26acf324-cc4d-47ac-afb4-f6a7eb81d1e3"
      },
      "execution_count": null,
      "outputs": [
        {
          "output_type": "stream",
          "name": "stdout",
          "text": [
            "Enter first value (1 for True, 0 for False): 15\n",
            "Enter second value (1 for True, 0 for False): 15\n",
            "True and True → True\n",
            "True or True → True\n",
            "not True → False\n",
            "not True → False\n"
          ]
        }
      ]
    },
    {
      "cell_type": "markdown",
      "source": [
        "***Q 13. B***"
      ],
      "metadata": {
        "id": "hCj6ZdR5_AMG"
      }
    },
    {
      "cell_type": "code",
      "source": [
        "# Function to demonstrate logical operators\n",
        "def logical_operations(a, b):\n",
        "    print(f\"{a} and {b}: {a and b}\")   # AND operator\n",
        "    print(f\"{a} or {b}: {a or b}\")     # OR operator\n",
        "    print(f\"not {a}: {not a}\")         # NOT operator\n",
        "    print(f\"not {b}: {not b}\")         # NOT operator\n",
        "\n",
        "# Input from user\n",
        "val1 = bool(int(input(\"Enter first value (1 for True, 0 for False): \")))\n",
        "val2 = bool(int(input(\"Enter second value (1 for True, 0 for False): \")))\n",
        "\n",
        "# Performing logical operations\n",
        "logical_operations(val1, val2)\n"
      ],
      "metadata": {
        "colab": {
          "base_uri": "https://localhost:8080/"
        },
        "id": "ThMkN7Nk-0Nq",
        "outputId": "855ef8e5-fe82-4210-9580-879c7a4da27d"
      },
      "execution_count": null,
      "outputs": [
        {
          "output_type": "stream",
          "name": "stdout",
          "text": [
            "Enter first value (1 for True, 0 for False): 14\n",
            "Enter second value (1 for True, 0 for False): 14\n",
            "True and True: True\n",
            "True or True: True\n",
            "not True: False\n",
            "not True: False\n"
          ]
        }
      ]
    },
    {
      "cell_type": "markdown",
      "source": [
        "**Question 14:** Write a Python program to calculate the square of a number."
      ],
      "metadata": {
        "id": "T135Gnlw_bIR"
      }
    },
    {
      "cell_type": "code",
      "source": [
        "# Function to calculate the square of a number\n",
        "def square_number(num):\n",
        "    return num ** 2  # Using exponentiation operator (**)\n",
        "\n",
        "# Taking input from the user\n",
        "number = float(input(\"Enter a number: \"))\n",
        "\n",
        "# Calculating and displaying the square\n",
        "square = square_number(number)\n",
        "print(f\"The square of {number} is {square}\")\n"
      ],
      "metadata": {
        "colab": {
          "base_uri": "https://localhost:8080/"
        },
        "id": "WAwpHpoY_ovn",
        "outputId": "26b5765f-c29f-4df1-8932-1857161ab7c5"
      },
      "execution_count": null,
      "outputs": [
        {
          "output_type": "stream",
          "name": "stdout",
          "text": [
            "Enter a number: 4\n",
            "The square of 4.0 is 16.0\n"
          ]
        }
      ]
    },
    {
      "cell_type": "markdown",
      "source": [
        "**Question 15:** Write a Python program to check if a number is even or odd."
      ],
      "metadata": {
        "id": "LjyjYKau_8zt"
      }
    },
    {
      "cell_type": "code",
      "source": [
        "# Function to check even or odd\n",
        "def check_even_odd(num):\n",
        "    if num % 2 == 0:\n",
        "        print(f\"{num} is an Even number.\")\n",
        "    else:\n",
        "        print(f\"{num} is not an Even number.\")\n",
        "\n",
        "# Taking input from the user\n",
        "number = int(input(\"Enter a number: \"))\n",
        "\n",
        "# Checking even or odd\n",
        "check_even_odd(number)\n"
      ],
      "metadata": {
        "colab": {
          "base_uri": "https://localhost:8080/"
        },
        "id": "PGaqidiBAYPq",
        "outputId": "77788390-a578-4226-b034-df2c4d10cfc1"
      },
      "execution_count": null,
      "outputs": [
        {
          "output_type": "stream",
          "name": "stdout",
          "text": [
            "Enter a number: 5\n",
            "5 is not an Even number.\n"
          ]
        }
      ]
    },
    {
      "cell_type": "markdown",
      "source": [
        "**Question 16:** Write a Python program to find the sum of the first n natural numbers."
      ],
      "metadata": {
        "id": "rj9zUIkcA6hR"
      }
    },
    {
      "cell_type": "code",
      "source": [
        "# Function to calculate the sum of first n natural numbers\n",
        "def sum_natural_numbers(n):\n",
        "    return n * (n + 1) // 2  # Using the formula: sum = n(n+1)/2\n",
        "\n",
        "# Taking input from the user\n",
        "n = int(input(\"Enter a positive integer: \"))\n",
        "\n",
        "# Checking if input is valid\n",
        "if n > 0:\n",
        "    total_sum = sum_natural_numbers(n)\n",
        "    print(f\"The sum of the first {n} natural numbers is {total_sum}\")\n",
        "else:\n",
        "    print(\"Please enter a positive integer.\")\n"
      ],
      "metadata": {
        "colab": {
          "base_uri": "https://localhost:8080/"
        },
        "id": "ZbOY9jdSBF9p",
        "outputId": "d4b9a5ce-668a-48c8-f0d8-aa1b3625fa9e"
      },
      "execution_count": null,
      "outputs": [
        {
          "output_type": "stream",
          "name": "stdout",
          "text": [
            "Enter a positive integer: 4\n",
            "The sum of the first 4 natural numbers is 10\n"
          ]
        }
      ]
    },
    {
      "cell_type": "markdown",
      "source": [
        "**Question 17:** Write a Python program to check if a year is a leap year."
      ],
      "metadata": {
        "id": "LW59so6dB9Ad"
      }
    },
    {
      "cell_type": "code",
      "source": [
        "# Function to check if a year is a leap year\n",
        "def is_leap_year(year):\n",
        "    if (year % 4 == 0 and year % 100 != 0) or (year % 400 == 0):\n",
        "        return True\n",
        "    else:\n",
        "        return False\n",
        "\n",
        "year = int(input(\"Enter a year: \"))\n",
        "\n",
        "if is_leap_year(year):\n",
        "    print(f\"{year} is a Leap Year.\")\n",
        "else:\n",
        "    print(f\"{year} is NOT a Leap Year.\")\n",
        "\n",
        "\n",
        "    #Explanation:\n",
        "\n",
        " #year is a leap year if:\n",
        "\n",
        "#It is divisible by 4 and not divisible by 100, or\n",
        "#It is divisible by 400."
      ],
      "metadata": {
        "colab": {
          "base_uri": "https://localhost:8080/"
        },
        "id": "4B8bCGJCB-ES",
        "outputId": "c823cfca-9d96-4b27-81c1-39a01645edf7"
      },
      "execution_count": null,
      "outputs": [
        {
          "output_type": "stream",
          "name": "stdout",
          "text": [
            "Enter a year: 4\n",
            "4 is a Leap Year.\n"
          ]
        }
      ]
    },
    {
      "cell_type": "markdown",
      "source": [
        "**Question 18:** Write a Python program to reverse a string."
      ],
      "metadata": {
        "id": "U54J9UwsDEiD"
      }
    },
    {
      "cell_type": "code",
      "source": [
        "# Function to reverse a string\n",
        "def reverse_string(s):\n",
        "    return s[::-1]  # Using slicing to reverse the string\n",
        "\n",
        "# Taking input from the user\n",
        "text = input(\"Enter a string: \")\n",
        "\n",
        "# Reversing and displaying the string\n",
        "reversed_text = reverse_string(text)\n",
        "print(f\"Reversed String: {reversed_text}\")\n"
      ],
      "metadata": {
        "colab": {
          "base_uri": "https://localhost:8080/"
        },
        "id": "ywl5O-HsD49F",
        "outputId": "cedd2b51-e814-4630-a59a-a170bd90c950"
      },
      "execution_count": null,
      "outputs": [
        {
          "output_type": "stream",
          "name": "stdout",
          "text": [
            "Enter a string: emeka\n",
            "Reversed String: akeme\n"
          ]
        }
      ]
    },
    {
      "cell_type": "markdown",
      "source": [
        "**Question 19:** Write a Python program to check if a string is a palindrome."
      ],
      "metadata": {
        "id": "Skj0IoMLHZ3R"
      }
    },
    {
      "cell_type": "markdown",
      "source": [
        "A palindrome is a word, phrase, number, or sequence that reads the same forward and backward (ignoring spaces, punctuation, and capitalization).\n",
        "\n",
        "Examples of Palindromes:\n",
        "Words: madam, racecar, level, radar, civic\n",
        "Phrases: \"A man a plan a canal Panama\", \"Was it a car or a cat I saw?\"\n",
        "Numbers: 121, 1331, 12321\n",
        "below is How to Check for a Palindrome in Python\n"
      ],
      "metadata": {
        "id": "cX-3DA5kI0_u"
      }
    },
    {
      "cell_type": "code",
      "source": [
        "# Function to check if a string is a palindrome\n",
        "def is_palindrome(s):\n",
        "    s = s.lower().replace(\" \", \"\")  # Convert to lowercase and remove spaces\n",
        "    return s == s[::-1]  # Compare original and reversed string\n",
        "\n",
        "# Taking input from the user\n",
        "text = input(\"Enter a string: \")\n",
        "\n",
        "# Checking if it's a palindrome\n",
        "if is_palindrome(text):\n",
        "    print(f'\"{text}\" is a Palindrome.')\n",
        "else:\n",
        "    print(f'\"{text}\" is NOT a Palindrome.')\n"
      ],
      "metadata": {
        "id": "THDTtWqhHh0n",
        "colab": {
          "base_uri": "https://localhost:8080/"
        },
        "outputId": "529bec53-8193-427a-d807-def91732f733"
      },
      "execution_count": null,
      "outputs": [
        {
          "output_type": "stream",
          "name": "stdout",
          "text": [
            "Enter a string: 1221\n",
            "\"1221\" is a Palindrome.\n"
          ]
        }
      ]
    },
    {
      "cell_type": "markdown",
      "source": [
        "**Question 20:** Write a Python program to sort a list of numbers in ascending order."
      ],
      "metadata": {
        "id": "toH19oEbJawD"
      }
    },
    {
      "cell_type": "code",
      "source": [
        "# Function to sort a list in ascending order\n",
        "def sort_numbers(numbers):\n",
        "    return sorted(numbers)  # Using the built-in sorted() function\n",
        "\n",
        "# Taking input from the user\n",
        "numbers = list(map(int, input(\"Enter numbers separated by spaces: \").split()))\n",
        "\n",
        "# Sorting and displaying the list\n",
        "sorted_numbers = sort_numbers(numbers)\n",
        "print(\"Sorted List:\", sorted_numbers)\n"
      ],
      "metadata": {
        "colab": {
          "base_uri": "https://localhost:8080/"
        },
        "id": "FpsvY0n4Jhsz",
        "outputId": "990fc90b-01c7-4971-aeda-7d6767b0913d"
      },
      "execution_count": null,
      "outputs": [
        {
          "output_type": "stream",
          "name": "stdout",
          "text": [
            "Enter numbers separated by spaces: 1 9 0 7 5 6 8 4 2 3 \n",
            "Sorted List: [0, 1, 2, 3, 4, 5, 6, 7, 8, 9]\n"
          ]
        }
      ]
    }
  ]
}